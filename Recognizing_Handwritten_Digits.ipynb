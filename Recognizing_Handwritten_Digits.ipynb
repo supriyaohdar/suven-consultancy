{
  "nbformat": 4,
  "nbformat_minor": 0,
  "metadata": {
    "colab": {
      "name": "Recognizing Handwritten Digits.ipynb",
      "provenance": [],
      "authorship_tag": "ABX9TyNttWWbw56f28/f+tpVH9CK",
      "include_colab_link": true
    },
    "kernelspec": {
      "name": "python3",
      "display_name": "Python 3"
    }
  },
  "cells": [
    {
      "cell_type": "markdown",
      "metadata": {
        "id": "view-in-github",
        "colab_type": "text"
      },
      "source": [
        "<a href=\"https://colab.research.google.com/github/supriyaohdar/suven-consultancy/blob/main/Recognizing_Handwritten_Digits.ipynb\" target=\"_parent\"><img src=\"https://colab.research.google.com/assets/colab-badge.svg\" alt=\"Open In Colab\"/></a>"
      ]
    },
    {
      "cell_type": "markdown",
      "metadata": {
        "id": "OdNmtzaCx1hd"
      },
      "source": [
        "#**Recognizing Handwritten Digits**"
      ]
    },
    {
      "cell_type": "code",
      "metadata": {
        "id": "L_PWSvWfxnb8"
      },
      "source": [
        "import matplotlib.pyplot as plt\n",
        "from sklearn.datasets import load_digits\n",
        "from sklearn.svm import SVC\n",
        "from sklearn.model_selection import train_test_split\n",
        "from sklearn.metrics import mean_absolute_error\n",
        "from sklearn.metrics import confusion_matrix, classification_report"
      ],
      "execution_count": null,
      "outputs": []
    },
    {
      "cell_type": "code",
      "metadata": {
        "id": "zRxGeJcW8eKI"
      },
      "source": [
        "digits=load_digits()"
      ],
      "execution_count": null,
      "outputs": []
    },
    {
      "cell_type": "code",
      "metadata": {
        "colab": {
          "base_uri": "https://localhost:8080/"
        },
        "id": "kWM627v88eHb",
        "outputId": "ab1f07b7-9b34-4954-836a-50bcf2b1f136"
      },
      "source": [
        "digits.data"
      ],
      "execution_count": null,
      "outputs": [
        {
          "output_type": "execute_result",
          "data": {
            "text/plain": [
              "array([[ 0.,  0.,  5., ...,  0.,  0.,  0.],\n",
              "       [ 0.,  0.,  0., ..., 10.,  0.,  0.],\n",
              "       [ 0.,  0.,  0., ..., 16.,  9.,  0.],\n",
              "       ...,\n",
              "       [ 0.,  0.,  1., ...,  6.,  0.,  0.],\n",
              "       [ 0.,  0.,  2., ..., 12.,  0.,  0.],\n",
              "       [ 0.,  0., 10., ..., 12.,  1.,  0.]])"
            ]
          },
          "metadata": {
            "tags": []
          },
          "execution_count": 18
        }
      ]
    },
    {
      "cell_type": "code",
      "metadata": {
        "colab": {
          "base_uri": "https://localhost:8080/"
        },
        "id": "a5WCdDoq9gah",
        "outputId": "b452d268-afc3-4383-e30d-b6cef5cd4212"
      },
      "source": [
        "digits.data.shape"
      ],
      "execution_count": null,
      "outputs": [
        {
          "output_type": "execute_result",
          "data": {
            "text/plain": [
              "(1797, 64)"
            ]
          },
          "metadata": {
            "tags": []
          },
          "execution_count": 8
        }
      ]
    },
    {
      "cell_type": "code",
      "metadata": {
        "colab": {
          "base_uri": "https://localhost:8080/"
        },
        "id": "HcUwihny9w_M",
        "outputId": "1f7e1d4d-278e-4315-8c4a-2fcd4042e045"
      },
      "source": [
        "digits.target"
      ],
      "execution_count": null,
      "outputs": [
        {
          "output_type": "execute_result",
          "data": {
            "text/plain": [
              "array([0, 1, 2, ..., 8, 9, 8])"
            ]
          },
          "metadata": {
            "tags": []
          },
          "execution_count": 9
        }
      ]
    },
    {
      "cell_type": "code",
      "metadata": {
        "colab": {
          "base_uri": "https://localhost:8080/"
        },
        "id": "fO8hJjL_93_Y",
        "outputId": "83904ee9-d1d3-42a9-fbc5-f25f61191c68"
      },
      "source": [
        "digits.target.shape"
      ],
      "execution_count": null,
      "outputs": [
        {
          "output_type": "execute_result",
          "data": {
            "text/plain": [
              "(1797,)"
            ]
          },
          "metadata": {
            "tags": []
          },
          "execution_count": 10
        }
      ]
    },
    {
      "cell_type": "code",
      "metadata": {
        "colab": {
          "base_uri": "https://localhost:8080/",
          "height": 1000
        },
        "id": "FBIFDCKt933t",
        "outputId": "2bea5fc9-b13e-47b9-9c8b-e0cbba7caae0"
      },
      "source": [
        "for i in range(10):\n",
        "  plt.imshow(digits.images[i])\n",
        "  plt.show()\n"
      ],
      "execution_count": null,
      "outputs": [
        {
          "output_type": "display_data",
          "data": {
            "image/png": "[encoded data removed]",
            "text/plain": [
              "<Figure size 432x288 with 1 Axes>"
            ]
          },
          "metadata": {
            "tags": [],
            "needs_background": "light"
          }
        },
        {
          "output_type": "display_data",
          "data": {
            "image/png": "[encoded data removed]",
            "text/plain": [
              "<Figure size 432x288 with 1 Axes>"
            ]
          },
          "metadata": {
            "tags": [],
            "needs_background": "light"
          }
        },
        {
          "output_type": "display_data",
          "data": {
            "image/png": "[encoded data removed]",
            "text/plain": [
              "<Figure size 432x288 with 1 Axes>"
            ]
          },
          "metadata": {
            "tags": [],
            "needs_background": "light"
          }
        },
        {
          "output_type": "display_data",
          "data": {
            "image/png": "[encoded data removed]",
            "text/plain": [
              "<Figure size 432x288 with 1 Axes>"
            ]
          },
          "metadata": {
            "tags": [],
            "needs_background": "light"
          }
        },
        {
          "output_type": "display_data",
          "data": {
            "image/png": "[encoded data removed]",
            "text/plain": [
              "<Figure size 432x288 with 1 Axes>"
            ]
          },
          "metadata": {
            "tags": [],
            "needs_background": "light"
          }
        },
        {
          "output_type": "display_data",
          "data": {
            "image/png": "[encoded data removed]",
            "text/plain": [
              "<Figure size 432x288 with 1 Axes>"
            ]
          },
          "metadata": {
            "tags": [],
            "needs_background": "light"
          }
        },
        {
          "output_type": "display_data",
          "data": {
            "image/png": "[encoded data removed]",
            "text/plain": [
              "<Figure size 432x288 with 1 Axes>"
            ]
          },
          "metadata": {
            "tags": [],
            "needs_background": "light"
          }
        },
        {
          "output_type": "display_data",
          "data": {
            "image/png": "[encoded data removed]",
            "text/plain": [
              "<Figure size 432x288 with 1 Axes>"
            ]
          },
          "metadata": {
            "tags": [],
            "needs_background": "light"
          }
        },
        {
          "output_type": "display_data",
          "data": {
            "image/png": "[encoded data removed]",
            "text/plain": [
              "<Figure size 432x288 with 1 Axes>"
            ]
          },
          "metadata": {
            "tags": [],
            "needs_background": "light"
          }
        },
        {
          "output_type": "display_data",
          "data": {
            "image/png": "[encoded data removed]",
            "text/plain": [
              "<Figure size 432x288 with 1 Axes>"
            ]
          },
          "metadata": {
            "tags": [],
            "needs_background": "light"
          }
        }
      ]
    },
    {
      "cell_type": "code",
      "metadata": {
        "colab": {
          "base_uri": "https://localhost:8080/"
        },
        "id": "pd9_sBWK93su",
        "outputId": "ba681c64-9a54-42ba-9068-ea3009febdbb"
      },
      "source": [
        "digits.images[0]"
      ],
      "execution_count": null,
      "outputs": [
        {
          "output_type": "execute_result",
          "data": {
            "text/plain": [
              "array([[ 0.,  0.,  5., 13.,  9.,  1.,  0.,  0.],\n",
              "       [ 0.,  0., 13., 15., 10., 15.,  5.,  0.],\n",
              "       [ 0.,  3., 15.,  2.,  0., 11.,  8.,  0.],\n",
              "       [ 0.,  4., 12.,  0.,  0.,  8.,  8.,  0.],\n",
              "       [ 0.,  5.,  8.,  0.,  0.,  9.,  8.,  0.],\n",
              "       [ 0.,  4., 11.,  0.,  1., 12.,  7.,  0.],\n",
              "       [ 0.,  2., 14.,  5., 10., 12.,  0.,  0.],\n",
              "       [ 0.,  0.,  6., 13., 10.,  0.,  0.,  0.]])"
            ]
          },
          "metadata": {
            "tags": []
          },
          "execution_count": 19
        }
      ]
    },
    {
      "cell_type": "code",
      "metadata": {
        "id": "TzCPD93xB67C"
      },
      "source": [
        "x_train, x_test,y_train, y_test=train_test_split(digits.data,digits.target,test_size=0.33 ,random_state=7)"
      ],
      "execution_count": null,
      "outputs": []
    },
    {
      "cell_type": "code",
      "metadata": {
        "colab": {
          "base_uri": "https://localhost:8080/"
        },
        "id": "xUKDZGwgB9Fk",
        "outputId": "1e8cd2d9-2761-455d-c661-5b40a1f6fcf4"
      },
      "source": [
        "svm=SVC()\n",
        "svm.fit(x_train,y_train)"
      ],
      "execution_count": null,
      "outputs": [
        {
          "output_type": "execute_result",
          "data": {
            "text/plain": [
              "SVC(C=1.0, break_ties=False, cache_size=200, class_weight=None, coef0=0.0,\n",
              "    decision_function_shape='ovr', degree=3, gamma='scale', kernel='rbf',\n",
              "    max_iter=-1, probability=False, random_state=None, shrinking=True,\n",
              "    tol=0.001, verbose=False)"
            ]
          },
          "metadata": {
            "tags": []
          },
          "execution_count": 24
        }
      ]
    },
    {
      "cell_type": "code",
      "metadata": {
        "id": "J7rR1qYdB82t"
      },
      "source": [
        "predicted = svm.predict(x_test)"
      ],
      "execution_count": null,
      "outputs": []
    },
    {
      "cell_type": "code",
      "metadata": {
        "colab": {
          "base_uri": "https://localhost:8080/"
        },
        "id": "OUF9cmG8B8sD",
        "outputId": "20ffaf5a-5799-4651-c390-f3e542fb284b"
      },
      "source": [
        "accuracy = svm.score(x_test, y_test)\n",
        "accuracy"
      ],
      "execution_count": null,
      "outputs": [
        {
          "output_type": "execute_result",
          "data": {
            "text/plain": [
              "0.9915824915824916"
            ]
          },
          "metadata": {
            "tags": []
          },
          "execution_count": 27
        }
      ]
    },
    {
      "cell_type": "code",
      "metadata": {
        "colab": {
          "base_uri": "https://localhost:8080/"
        },
        "id": "wiS_a-9DETPP",
        "outputId": "40001695-97c6-4b36-a913-22b17bff0b41"
      },
      "source": [
        "print(confusion_matrix(y_test, predicted))\n",
        "print(classification_report(y_test, predicted))"
      ],
      "execution_count": null,
      "outputs": [
        {
          "output_type": "stream",
          "text": [
            "[[63  0  0  0  0  0  0  0  0  0]\n",
            " [ 0 57  0  0  0  0  0  0  0  0]\n",
            " [ 0  0 57  0  0  0  0  0  0  0]\n",
            " [ 0  0  0 56  0  1  0  0  0  0]\n",
            " [ 0  0  0  0 64  0  0  0  0  0]\n",
            " [ 0  0  0  0  0 51  0  0  0  0]\n",
            " [ 0  0  0  0  0  0 56  0  0  0]\n",
            " [ 0  0  0  0  0  0  0 58  0  0]\n",
            " [ 0  2  0  0  0  0  0  1 66  0]\n",
            " [ 0  0  0  0  0  1  0  0  0 61]]\n",
            "              precision    recall  f1-score   support\n",
            "\n",
            "           0       1.00      1.00      1.00        63\n",
            "           1       0.97      1.00      0.98        57\n",
            "           2       1.00      1.00      1.00        57\n",
            "           3       1.00      0.98      0.99        57\n",
            "           4       1.00      1.00      1.00        64\n",
            "           5       0.96      1.00      0.98        51\n",
            "           6       1.00      1.00      1.00        56\n",
            "           7       0.98      1.00      0.99        58\n",
            "           8       1.00      0.96      0.98        69\n",
            "           9       1.00      0.98      0.99        62\n",
            "\n",
            "    accuracy                           0.99       594\n",
            "   macro avg       0.99      0.99      0.99       594\n",
            "weighted avg       0.99      0.99      0.99       594\n",
            "\n"
          ],
          "name": "stdout"
        }
      ]
    },
    {
      "cell_type": "code",
      "metadata": {
        "id": "1iEC8TtZETFZ"
      },
      "source": [
        "x_train, x_test,y_train, y_test=train_test_split(digits.data,digits.target,test_size=0.5 ,random_state=7)"
      ],
      "execution_count": null,
      "outputs": []
    },
    {
      "cell_type": "code",
      "metadata": {
        "colab": {
          "base_uri": "https://localhost:8080/"
        },
        "id": "FIm89JS6ES65",
        "outputId": "81f79904-c0f6-4fef-bd1b-4d8ad6e9b3aa"
      },
      "source": [
        "svm=SVC(gamma=0.0001)\n",
        "svm.fit(x_train,y_train)"
      ],
      "execution_count": null,
      "outputs": [
        {
          "output_type": "execute_result",
          "data": {
            "text/plain": [
              "SVC(C=1.0, break_ties=False, cache_size=200, class_weight=None, coef0=0.0,\n",
              "    decision_function_shape='ovr', degree=3, gamma=0.0001, kernel='rbf',\n",
              "    max_iter=-1, probability=False, random_state=None, shrinking=True,\n",
              "    tol=0.001, verbose=False)"
            ]
          },
          "metadata": {
            "tags": []
          },
          "execution_count": 35
        }
      ]
    },
    {
      "cell_type": "code",
      "metadata": {
        "id": "Uwsrv8WCFehm"
      },
      "source": [
        "predicted = svm.predict(x_test)"
      ],
      "execution_count": null,
      "outputs": []
    },
    {
      "cell_type": "code",
      "metadata": {
        "colab": {
          "base_uri": "https://localhost:8080/"
        },
        "id": "Qat8g2RXFed-",
        "outputId": "66e63561-9282-499c-b1aa-8ca505fbccaf"
      },
      "source": [
        "accuracy = svm.score(x_test, y_test)\n",
        "accuracy"
      ],
      "execution_count": null,
      "outputs": [
        {
          "output_type": "execute_result",
          "data": {
            "text/plain": [
              "0.96440489432703"
            ]
          },
          "metadata": {
            "tags": []
          },
          "execution_count": 37
        }
      ]
    },
    {
      "cell_type": "code",
      "metadata": {
        "colab": {
          "base_uri": "https://localhost:8080/"
        },
        "id": "dQCl6WRGFecJ",
        "outputId": "483f54fe-21b4-4953-e106-f5781802bb68"
      },
      "source": [
        "print(confusion_matrix(y_test, predicted))\n",
        "print(classification_report(y_test, predicted))"
      ],
      "execution_count": null,
      "outputs": [
        {
          "output_type": "stream",
          "text": [
            "[[94  0  0  0  1  0  0  0  0  0]\n",
            " [ 0 85  0  0  0  0  0  0  0  4]\n",
            " [ 0  2 86  0  0  0  0  0  0  0]\n",
            " [ 0  0  0 84  0  2  0  1  0  0]\n",
            " [ 0  0  0  0 83  0  0  1  1  1]\n",
            " [ 0  0  0  0  0 83  0  0  0  0]\n",
            " [ 0  0  0  0  0  0 91  0  1  0]\n",
            " [ 0  0  0  0  0  0  0 91  0  0]\n",
            " [ 0  7  0  0  0  1  0  1 89  2]\n",
            " [ 0  0  0  0  0  3  0  3  1 81]]\n",
            "              precision    recall  f1-score   support\n",
            "\n",
            "           0       1.00      0.99      0.99        95\n",
            "           1       0.90      0.96      0.93        89\n",
            "           2       1.00      0.98      0.99        88\n",
            "           3       1.00      0.97      0.98        87\n",
            "           4       0.99      0.97      0.98        86\n",
            "           5       0.93      1.00      0.97        83\n",
            "           6       1.00      0.99      0.99        92\n",
            "           7       0.94      1.00      0.97        91\n",
            "           8       0.97      0.89      0.93       100\n",
            "           9       0.92      0.92      0.92        88\n",
            "\n",
            "    accuracy                           0.96       899\n",
            "   macro avg       0.97      0.97      0.96       899\n",
            "weighted avg       0.97      0.96      0.96       899\n",
            "\n"
          ],
          "name": "stdout"
        }
      ]
    },
    {
      "cell_type": "code",
      "metadata": {
        "id": "XD2jDl9mFeXM"
      },
      "source": [
        "x_train, x_test,y_train, y_test=train_test_split(digits.data,digits.target,test_size=0.5 ,random_state=7)"
      ],
      "execution_count": null,
      "outputs": []
    },
    {
      "cell_type": "code",
      "metadata": {
        "colab": {
          "base_uri": "https://localhost:8080/"
        },
        "id": "Cqpn247WGFX2",
        "outputId": "d07c79ea-8ec4-489f-81f6-6dd3566e0944"
      },
      "source": [
        "svm=SVC(C=2.0)\n",
        "svm.fit(x_train,y_train)"
      ],
      "execution_count": null,
      "outputs": [
        {
          "output_type": "execute_result",
          "data": {
            "text/plain": [
              "SVC(C=2.0, break_ties=False, cache_size=200, class_weight=None, coef0=0.0,\n",
              "    decision_function_shape='ovr', degree=3, gamma='scale', kernel='rbf',\n",
              "    max_iter=-1, probability=False, random_state=None, shrinking=True,\n",
              "    tol=0.001, verbose=False)"
            ]
          },
          "metadata": {
            "tags": []
          },
          "execution_count": 43
        }
      ]
    },
    {
      "cell_type": "code",
      "metadata": {
        "id": "LD_ixAoOGFNx"
      },
      "source": [
        "predicted=svm.predict(x_test)"
      ],
      "execution_count": null,
      "outputs": []
    },
    {
      "cell_type": "code",
      "metadata": {
        "colab": {
          "base_uri": "https://localhost:8080/"
        },
        "id": "1ybrMD6oFeOD",
        "outputId": "b5fbe28a-e4d0-467b-9b3a-7c481306db27"
      },
      "source": [
        "accuracy = svm.score(x_test, y_test)\n",
        "accuracy"
      ],
      "execution_count": null,
      "outputs": [
        {
          "output_type": "execute_result",
          "data": {
            "text/plain": [
              "0.9899888765294772"
            ]
          },
          "metadata": {
            "tags": []
          },
          "execution_count": 46
        }
      ]
    },
    {
      "cell_type": "code",
      "metadata": {
        "colab": {
          "base_uri": "https://localhost:8080/"
        },
        "id": "MqsFRWMgB8hJ",
        "outputId": "60762cee-bc3e-4d02-b20d-6def41f1d236"
      },
      "source": [
        "print(confusion_matrix(y_test, predicted))\n",
        "print(classification_report(y_test, predicted))"
      ],
      "execution_count": null,
      "outputs": [
        {
          "output_type": "stream",
          "text": [
            "[[94  0  0  0  1  0  0  0  0  0]\n",
            " [ 0 89  0  0  0  0  0  0  0  0]\n",
            " [ 0  0 88  0  0  0  0  0  0  0]\n",
            " [ 0  0  0 87  0  0  0  0  0  0]\n",
            " [ 0  0  0  0 86  0  0  0  0  0]\n",
            " [ 0  0  0  0  0 83  0  0  0  0]\n",
            " [ 0  0  0  0  0  0 92  0  0  0]\n",
            " [ 0  0  0  0  0  0  0 91  0  0]\n",
            " [ 0  4  0  0  0  1  0  1 94  0]\n",
            " [ 0  0  0  0  0  1  0  0  1 86]]\n",
            "              precision    recall  f1-score   support\n",
            "\n",
            "           0       1.00      0.99      0.99        95\n",
            "           1       0.96      1.00      0.98        89\n",
            "           2       1.00      1.00      1.00        88\n",
            "           3       1.00      1.00      1.00        87\n",
            "           4       0.99      1.00      0.99        86\n",
            "           5       0.98      1.00      0.99        83\n",
            "           6       1.00      1.00      1.00        92\n",
            "           7       0.99      1.00      0.99        91\n",
            "           8       0.99      0.94      0.96       100\n",
            "           9       1.00      0.98      0.99        88\n",
            "\n",
            "    accuracy                           0.99       899\n",
            "   macro avg       0.99      0.99      0.99       899\n",
            "weighted avg       0.99      0.99      0.99       899\n",
            "\n"
          ],
          "name": "stdout"
        }
      ]
    },
    {
      "cell_type": "code",
      "metadata": {
        "id": "6HPJnoG2Wklt"
      },
      "source": [
        "import numpy as np\n"
      ],
      "execution_count": null,
      "outputs": []
    },
    {
      "cell_type": "code",
      "metadata": {
        "colab": {
          "base_uri": "https://localhost:8080/"
        },
        "id": "L2bm5nuSWjF8",
        "outputId": "4dc2343b-ae1a-4c75-9e2c-df720a1438bb"
      },
      "source": [
        "a=np.arange(10,16)\n",
        "print(a[[1,3,4]])\n",
        "print(a[-1])"
      ],
      "execution_count": null,
      "outputs": [
        {
          "output_type": "stream",
          "text": [
            "[11 13 14]\n",
            "15\n"
          ],
          "name": "stdout"
        }
      ]
    },
    {
      "cell_type": "code",
      "metadata": {
        "id": "NerPUOxHXj9j"
      },
      "source": [
        ""
      ],
      "execution_count": null,
      "outputs": []
    },
    {
      "cell_type": "code",
      "metadata": {
        "id": "D8YmAFDPXjso"
      },
      "source": [
        ""
      ],
      "execution_count": null,
      "outputs": []
    },
    {
      "cell_type": "code",
      "metadata": {
        "id": "96s3a-1BXh7J"
      },
      "source": [
        ""
      ],
      "execution_count": null,
      "outputs": []
    }
  ]
}